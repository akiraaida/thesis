{
 "cells": [
  {
   "cell_type": "code",
   "execution_count": 145,
   "metadata": {
    "collapsed": true
   },
   "outputs": [],
   "source": [
    "import csv\n",
    "import math\n",
    "import operator\n",
    "import matplotlib.pyplot as plt"
   ]
  },
  {
   "cell_type": "code",
   "execution_count": 302,
   "metadata": {
    "collapsed": true
   },
   "outputs": [],
   "source": [
    "def getAllPlayersFromCsv():\n",
    "    players = []\n",
    "    counter = 0 \n",
    "    with open('data.csv', 'r') as f:\n",
    "        reader = csv.reader(f)\n",
    "        for row in reader:\n",
    "            if row[1] == 'LeagueIndex':\n",
    "                continue\n",
    "            # Adding noise to the MMR since the MMR was unrealistic\n",
    "            noise = np.random.uniform(-1, 1)\n",
    "            player = Player(\"p\" + str(counter) + \".\", float(row[1]) + noise, float(row[13]))\n",
    "            players.append(player)\n",
    "            counter += 1\n",
    "    return players"
   ]
  },
  {
   "cell_type": "code",
   "execution_count": 303,
   "metadata": {
    "collapsed": true
   },
   "outputs": [],
   "source": [
    "class Player:\n",
    "    def __init__(self, pid, mmr, ping):\n",
    "        self.pid = pid\n",
    "        self.mmr = mmr\n",
    "        self.ping = ping\n",
    "    \n",
    "    def getPid(self):\n",
    "        return self.pid\n",
    "    \n",
    "    def getMmr(self):\n",
    "        return self.mmr\n",
    "    \n",
    "    def getPing(self):\n",
    "        return self.ping\n",
    "    \n",
    "    def __str__(self):\n",
    "        return \"Player: \" + str(self.pid)\n",
    "    \n",
    "    def __repr__(self):\n",
    "        return \"Player: \" + str(self.pid)"
   ]
  },
  {
   "cell_type": "code",
   "execution_count": 421,
   "metadata": {
    "collapsed": true
   },
   "outputs": [],
   "source": [
    "def euclideanDistance(player1, player2):\n",
    "    distance = 0\n",
    "    distance += (player1.getMmr() - player2.getMmr())**2\n",
    "    distance += (player1.getPing() - player2.getPing())**2\n",
    "    return math.sqrt(distance)\n",
    "\n",
    "def getScatterData(players):\n",
    "    xCoords = []\n",
    "    yCoords = []\n",
    "    for player in players:\n",
    "        xCoords.append(player.getMmr())\n",
    "        yCoords.append(player.getPing())\n",
    "        \n",
    "    return xCoords, yCoords\n",
    "\n",
    "def plotScatter(queue):\n",
    "    fig = plt.figure()\n",
    "    ax = fig.add_subplot(111)\n",
    "    playersInQueue = queue.getPlayersInQueue()\n",
    "    xCoords, yCoords = getScatterData(playersInQueue)\n",
    "    ax.scatter(xCoords, yCoords)\n",
    "    for i in range(len(playersInQueue)):\n",
    "        ax.annotate(playersInQueue[i].getPid(), (xCoords[i], yCoords[i]))\n",
    "    \n",
    "    return ax"
   ]
  },
  {
   "cell_type": "code",
   "execution_count": 422,
   "metadata": {},
   "outputs": [],
   "source": [
    "class Queue():\n",
    "    def __init__(self):\n",
    "        self.queue = []\n",
    "        self.distances = {}\n",
    "        \n",
    "    def getPlayersInQueue(self):\n",
    "        return self.queue\n",
    "    \n",
    "    def convertPairKeyToPlayers(self, pairKey):\n",
    "        playerKeys = pairKey.split(\".\")\n",
    "        playerKeys = list(filter(None, playerKeys))\n",
    "        for i in range(len(playerKeys)):\n",
    "            playerKeys[i] = playerKeys[i] + \".\"\n",
    "\n",
    "        players = []\n",
    "        \n",
    "        for playerKey in playerKeys:\n",
    "            for player in self.queue:\n",
    "                if playerKey == player.getPid():\n",
    "                    players.append(player)\n",
    "                    if len(players) == 2:\n",
    "                        break\n",
    "        return players\n",
    "        \n",
    "    def getHighestPriority(self):\n",
    "        if (len(self.queue)) > 0:\n",
    "            return self.queue[0]\n",
    "        \n",
    "    def moveHighestPriortyPlayerToLeastPriority(self):\n",
    "        if len(self.queue) > 0:\n",
    "            self.queue.append(self.queue.pop(0))\n",
    "            \n",
    "    def append(self, newPlayer):\n",
    "        if (len(self.queue) > 0):\n",
    "            for i in range(len(self.queue)):\n",
    "                dist = euclideanDistance(self.queue[i], newPlayer)\n",
    "                pid1 = self.queue[i].getPid()\n",
    "                pid2 = newPlayer.getPid()\n",
    "                key = pid1 + pid2\n",
    "                self.distances[key] = dist\n",
    "        self.queue.append(newPlayer)\n",
    "        \n",
    "    def removePair(self, pairKey):\n",
    "        playerKeys = pairKey.split(\".\")\n",
    "        playerKeys = list(filter(None, playerKeys))\n",
    "        for i in range(len(playerKeys)):\n",
    "            playerKeys[i] = playerKeys[i] + \".\"\n",
    "        \n",
    "        for playerKey in playerKeys:\n",
    "            for key in list(self.distances.keys()):\n",
    "                if playerKey in key:\n",
    "                    del self.distances[key]\n",
    "        \n",
    "        for playerKey in playerKeys:\n",
    "            for player in self.queue[:]:\n",
    "                if playerKey == player.getPid():\n",
    "                    self.queue.remove(player)\n",
    "        \n",
    "    def getNearestNeighbor(self, player):\n",
    "        keys = self.distances.keys()\n",
    "        pid = player.getPid()\n",
    "        neighbors = {}\n",
    "        for key in keys:\n",
    "            if pid in key:\n",
    "                neighbors[key] = self.distances[key]\n",
    "        s_neighbors = sorted(neighbors.items(), key=operator.itemgetter(1))\n",
    "        return (s_neighbors[0])"
   ]
  },
  {
   "cell_type": "code",
   "execution_count": 437,
   "metadata": {},
   "outputs": [
    {
     "name": "stdout",
     "output_type": "stream",
     "text": [
      "Successful Match Found!\n"
     ]
    },
    {
     "data": {
      "image/png": "[encoded data removed]",
      "text/plain": [
       "<matplotlib.figure.Figure at 0x7fc46fc91e48>"
      ]
     },
     "metadata": {},
     "output_type": "display_data"
    },
    {
     "name": "stdout",
     "output_type": "stream",
     "text": [
      "Successful Match Found!\n"
     ]
    },
    {
     "data": {
      "image/png": "[encoded data removed]",
      "text/plain": [
       "<matplotlib.figure.Figure at 0x7fc46fd402b0>"
      ]
     },
     "metadata": {},
     "output_type": "display_data"
    },
    {
     "name": "stdout",
     "output_type": "stream",
     "text": [
      "Successful Match Found!\n"
     ]
    },
    {
     "data": {
      "image/png": "[encoded data removed]",
      "text/plain": [
       "<matplotlib.figure.Figure at 0x7fc4706e92e8>"
      ]
     },
     "metadata": {},
     "output_type": "display_data"
    }
   ],
   "source": [
    "def main():\n",
    "    MIN_SIMILARITY = 5\n",
    "    \n",
    "    # Get all of the test player data\n",
    "    players = getAllPlayersFromCsv()\n",
    "\n",
    "    # Create a queue to simulate a game queue\n",
    "    queue = Queue()\n",
    "    \n",
    "    # Add players to the queue\n",
    "    for i in range(20):\n",
    "        queue.append(players[i])\n",
    "            \n",
    "    # Matchmaking loop\n",
    "    for i in range(3):\n",
    "        # Plot the current queue of players\n",
    "        ax = plotScatter(queue)\n",
    "\n",
    "        player = queue.getHighestPriority()\n",
    "        nearestNeighbor = queue.getNearestNeighbor(player)\n",
    "        if nearestNeighbor[1] < MIN_SIMILARITY:\n",
    "            print(\"Successful Match Found!\")\n",
    "            playersToBeRemoved = queue.convertPairKeyToPlayers(nearestNeighbor[0])\n",
    "            queue.removePair(nearestNeighbor[0])\n",
    "            xCoordsRemoved, yCoordsRemoved = getScatterData(playersToBeRemoved)\n",
    "            # Red is the player with highest priority\n",
    "            # Yellow is the player with the shortest distance\n",
    "            ax.scatter(xCoordsRemoved, yCoordsRemoved, c=[\"red\", \"yellow\"])\n",
    "            plt.show()\n",
    "        else:\n",
    "            print(\"No Match Found!\")\n",
    "            queue.moveHighestPriortyPlayerToLeastPriority()\n",
    "            plt.show()\n",
    "\n",
    "main()"
   ]
  }
 ],
 "metadata": {
  "kernelspec": {
   "display_name": "Python 3",
   "language": "python",
   "name": "python3"
  },
  "language_info": {
   "codemirror_mode": {
    "name": "ipython",
    "version": 3
   },
   "file_extension": ".py",
   "mimetype": "text/x-python",
   "name": "python",
   "nbconvert_exporter": "python",
   "pygments_lexer": "ipython3",
   "version": "3.6.2"
  }
 },
 "nbformat": 4,
 "nbformat_minor": 2
}
