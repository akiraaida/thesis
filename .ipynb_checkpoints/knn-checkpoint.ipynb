{
 "cells": [
  {
   "cell_type": "code",
   "execution_count": null,
   "metadata": {
    "collapsed": true
   },
   "outputs": [],
   "source": [
    "import csv\n",
    "import math\n",
    "\n",
    "def loadPlayers(filename):\n",
    "    players = []\n",
    "    counter = 0\n",
    "    with open('data.csv', 'r') as f:\n",
    "    reader = csv.reader(f)\n",
    "    for row in reader:\n",
    "        if row[1] == 'LeagueIndex':\n",
    "            continue\n",
    "        player = [] \n",
    "        player.append(row[13])\n",
    "        player.append(float(row[1]))\n",
    "        players.append(player)\n",
    "        counter += 1\n",
    "     return players\n",
    "\n",
    "def euclideanDistance(player1, player2)"
   ]
  }
 ],
 "metadata": {
  "kernelspec": {
   "display_name": "Python 3",
   "language": "python",
   "name": "python3"
  },
  "language_info": {
   "codemirror_mode": {
    "name": "ipython",
    "version": 3
   },
   "file_extension": ".py",
   "mimetype": "text/x-python",
   "name": "python",
   "nbconvert_exporter": "python",
   "pygments_lexer": "ipython3",
   "version": "3.6.2"
  }
 },
 "nbformat": 4,
 "nbformat_minor": 2
}
