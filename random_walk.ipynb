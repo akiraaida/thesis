{
 "cells": [
  {
   "cell_type": "code",
   "execution_count": 1,
   "metadata": {
    "collapsed": true
   },
   "outputs": [],
   "source": [
    "import csv\n",
    "import math\n",
    "import operator\n",
    "import matplotlib.pyplot as plt\n",
    "import numpy as np"
   ]
  },
  {
   "cell_type": "code",
   "execution_count": 78,
   "metadata": {
    "collapsed": true
   },
   "outputs": [],
   "source": [
    "class Node:\n",
    "    def __init__(self, pid, edges):\n",
    "        self.pid = pid\n",
    "        self.edges = edges\n",
    "        \n",
    "    def __repr__(self):\n",
    "        return \"Pid: \" + str(self.pid)+ \", Edges: \" + str(self.edges)"
   ]
  },
  {
   "cell_type": "code",
   "execution_count": 79,
   "metadata": {
    "collapsed": true
   },
   "outputs": [],
   "source": [
    "def assignEdgesToPlayer(ping, mmr):\n",
    "    bucketSizePing = 25   # 0-49.999, 50-99.999, etc.\n",
    "    bucketSizeMmr = 1     # 0-0.999, 1-1.999, etc.\n",
    "    pingBucket = int(ping/bucketSizePing)\n",
    "    mmrBucket = int(mmr/bucketSizeMmr)\n",
    "    \n",
    "    return [\"ping\" + str(pingBucket), \"mmr\" + str(mmrBucket)]\n",
    "\n",
    "def assignEdgesToBuckets(buckets, players):\n",
    "    nodes = []\n",
    "    for bucket in buckets:\n",
    "        node = Node(bucket, [])\n",
    "        nodes.append(node)\n",
    "    for player in players:\n",
    "        for edge in player.edges:\n",
    "            for node in nodes:\n",
    "                if node.pid == edge:\n",
    "                    node.edges.append(player.pid) \n",
    "    return nodes"
   ]
  },
  {
   "cell_type": "code",
   "execution_count": 80,
   "metadata": {
    "collapsed": true
   },
   "outputs": [],
   "source": [
    "def getAllNodes():\n",
    "    players = []\n",
    "    buckets = []\n",
    "    nodes = []\n",
    "    counter = 0\n",
    "    with open('data.csv', 'r') as f:\n",
    "        reader = csv.reader(f)\n",
    "        for row in reader:\n",
    "            if row[1] == 'LeagueIndex':\n",
    "                continue\n",
    "            # Adding noise to the MMR since the MMR was unrealistic\n",
    "            noise = np.random.uniform(-1, 1)\n",
    "            mmr = float(row[1]) + noise\n",
    "            ping = float(row[13])\n",
    "            edges = assignEdgesToPlayer(ping, mmr)\n",
    "            for edge in edges:\n",
    "                buckets.append(edge)\n",
    "            player = Node(\"player\" + str(counter), edges)\n",
    "            players.append(player)\n",
    "            counter += 1\n",
    "            if counter == 5:\n",
    "                break\n",
    "    buckets = assignEdgesToBuckets(list(set(buckets)), players)\n",
    "    nodes.append(players)\n",
    "    nodes.append(buckets)\n",
    "    nodes = sum(nodes, [])\n",
    "    return nodes"
   ]
  },
  {
   "cell_type": "code",
   "execution_count": 81,
   "metadata": {
    "collapsed": true
   },
   "outputs": [],
   "source": [
    "def calculateTransitionMatrix(nodes):\n",
    "    transitionMatrix = np.zeros((len(nodes), len(nodes)))\n",
    "    for i in range(len(nodes)):\n",
    "        edges = nodes[i].edges\n",
    "        for j in range(len(nodes)):\n",
    "            if nodes[j].pid in edges:\n",
    "                transitionMatrix[j][i] = 1 / len(edges)\n",
    "            else:\n",
    "                transitionMatrix[j][i] = 0\n",
    "    return transitionMatrix"
   ]
  },
  {
   "cell_type": "code",
   "execution_count": 82,
   "metadata": {},
   "outputs": [
    {
     "name": "stdout",
     "output_type": "stream",
     "text": [
      "Max Similarity Between...\n",
      "Pid: player0, Edges: ['ping1', 'mmr4']\n",
      "Pid: player1, Edges: ['ping1', 'mmr4'] 0.177777777778\n",
      "\n",
      "[['player0' '0.3777777777777778']\n",
      " ['player1' '0.1777777777777778']\n",
      " ['player2' '0.0']\n",
      " ['player3' '0.0']\n",
      " ['player4' '0.0']\n",
      " ['ping3' '0.0']\n",
      " ['ping1' '0.2222222222222222']\n",
      " ['mmr4' '0.2222222222222222']\n",
      " ['ping2' '0.0']\n",
      " ['mmr2' '0.0']\n",
      " ['mmr3' '0.0']]\n"
     ]
    }
   ],
   "source": [
    "beta = 0.8\n",
    "\n",
    "nodes = getAllNodes()\n",
    "\n",
    "labels = []\n",
    "for i in range(len(nodes)):\n",
    "    labels.append(nodes[i].pid)\n",
    "\n",
    "labels = np.asarray(labels).reshape(-1, 1)\n",
    "\n",
    "transitionMatrix = calculateTransitionMatrix(nodes)\n",
    "transitionMatrix = transitionMatrix * 0.8\n",
    "\n",
    "startMatrix = np.zeros(len(nodes)).reshape(len(nodes), 1)\n",
    "initialNode = 0\n",
    "startMatrix[initialNode] = 1\n",
    "eN = startMatrix\n",
    "eN = eN * (1-beta)\n",
    "\n",
    "vPrime = transitionMatrix + eN\n",
    "\n",
    "v = startMatrix\n",
    "for i in range(1000):\n",
    "    v = np.matmul(vPrime, v)\n",
    "\n",
    "disp = np.concatenate((labels, v), axis=1)\n",
    "\n",
    "maxSim = -10000\n",
    "maxSimName = \"\"\n",
    "count = 0\n",
    "index = -1\n",
    "for name, val in disp:\n",
    "    if \"player\" in name:\n",
    "        if count is not initialNode:\n",
    "            val = val.astype(np.float)\n",
    "            if val > maxSim:\n",
    "                maxSim = val\n",
    "                index = count\n",
    "    count += 1\n",
    "\n",
    "print(\"Max Similarity Between...\")\n",
    "print(nodes[initialNode])\n",
    "print(nodes[index], maxSim)\n",
    "print(\"\")\n",
    "print(disp)"
   ]
  },
  {
   "cell_type": "code",
   "execution_count": null,
   "metadata": {
    "collapsed": true
   },
   "outputs": [],
   "source": []
  },
  {
   "cell_type": "code",
   "execution_count": null,
   "metadata": {
    "collapsed": true
   },
   "outputs": [],
   "source": []
  }
 ],
 "metadata": {
  "kernelspec": {
   "display_name": "Python 3",
   "language": "python",
   "name": "python3"
  },
  "language_info": {
   "codemirror_mode": {
    "name": "ipython",
    "version": 3
   },
   "file_extension": ".py",
   "mimetype": "text/x-python",
   "name": "python",
   "nbconvert_exporter": "python",
   "pygments_lexer": "ipython3",
   "version": "3.6.2"
  }
 },
 "nbformat": 4,
 "nbformat_minor": 2
}
